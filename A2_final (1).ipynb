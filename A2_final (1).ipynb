{
 "cells": [
  {
   "cell_type": "markdown",
   "id": "8863dd84",
   "metadata": {},
   "source": []
  },
  {
   "cell_type": "code",
   "execution_count": 2,
   "id": "0f7bcd84",
   "metadata": {},
   "outputs": [],
   "source": [
    "import pandas as pd\n",
    "import numpy as np\n",
    "import scipy\n",
    "import math\n",
    "from sklearn import tree\n",
    "import pickle\n",
    "from matplotlib import pyplot as plt\n",
    "from sklearn.feature_extraction.text import CountVectorizer\n",
    "from sklearn.metrics import accuracy_score\n",
    "from sklearn.metrics import classification_report\n",
    "from sklearn.model_selection import train_test_split\n",
    "from sklearn.model_selection import cross_val_score\n",
    "import collections\n",
    "from sklearn.neighbors import KNeighborsClassifier\n",
    "from sklearn.cluster import KMeans\n",
    "from sklearn import preprocessing\n",
    "from sklearn.svm import SVC"
   ]
  },
  {
   "cell_type": "code",
   "execution_count": 3,
   "id": "87bc80c2",
   "metadata": {},
   "outputs": [],
   "source": [
    "bookrating_train = pd.read_csv('book_rating_train.csv')\n",
    "bookrating_test = pd.read_csv('book_rating_test.csv')"
   ]
  },
  {
   "cell_type": "markdown",
   "id": "627af53f",
   "metadata": {},
   "source": [
    "2 MODELS: 1st will be a classifier model using DT\n",
    "          2nd will be a cluster model using kNN"
   ]
  },
  {
   "cell_type": "code",
   "execution_count": 4,
   "id": "f1df06f4",
   "metadata": {},
   "outputs": [],
   "source": [
    "vocab = pickle.load(open(\"train_name_countvectorizer.pkl\", \"rb\"))\n",
    "vocab_dict = vocab.vocabulary_\n",
    "\n",
    "train_name_vec = scipy.sparse.load_npz('train_name_vec.npz')\n",
    "test_name_vec = scipy.sparse.load_npz('test_name_vec.npz')\n",
    "\n",
    "train_auth_vec = scipy.sparse.load_npz('train_authors_vec.npz')\n",
    "test_auth_vec = scipy.sparse.load_npz('test_authors_vec.npz')\n",
    "\n",
    "train_desc_vec = scipy.sparse.load_npz('train_desc_vec.npz')\n",
    "test_desc_vec = scipy.sparse.load_npz('test_desc_vec.npz')"
   ]
  },
  {
   "cell_type": "code",
   "execution_count": 4,
   "id": "95d4493b",
   "metadata": {},
   "outputs": [],
   "source": [
    "subtrain_X, subtest_X, subtrain_Y, subtest_Y = train_test_split(train_auth_vec, bookrating_train['rating_label'], test_size = 0.2) "
   ]
  },
  {
   "cell_type": "code",
   "execution_count": null,
   "id": "983ec7aa",
   "metadata": {},
   "outputs": [],
   "source": [
    "DTC = tree.DecisionTreeClassifier()\n",
    "mtree = DTC.fit(subtrain_X, subtrain_Y)\n",
    "#print(classification_report(subtest_Y, mtree.predict(subtest_X), labels=[3.0,4.0,5.0]))\n",
    "print(cross_val_score(DTC, train_name_vec, bookrating_train['rating_label'], cv = 5, scoring ='f1_macro').mean())"
   ]
  },
  {
   "cell_type": "code",
   "execution_count": 5,
   "id": "16ca3f8c",
   "metadata": {},
   "outputs": [],
   "source": [
    "def dtree_tuning(vector, dataset):\n",
    "    \n",
    "    fold = 5 # No of times to train in each repetition to get the average\n",
    "    \n",
    "    depths= [None,2,3,4,5]\n",
    "    depth_results = {}\n",
    "    params = {}\n",
    "    \n",
    "    for val in depths:\n",
    "        \n",
    "        DTC = tree.DecisionTreeClassifier(max_depth = val)\n",
    "        depth_results[val] = cross_val_score(DTC, vector,dataset['rating_label'], cv = fold, scoring ='f1_macro').mean()\n",
    " \n",
    "    params['depth'] = max(depth_results, key=depth_results.get)\n",
    "    \n",
    "    leaf_nodes = [None,5,6,7,8,9,10]\n",
    "    leafnode_results = {}\n",
    "    \n",
    "    for val in leaf_nodes:\n",
    "        DTC = tree.DecisionTreeClassifier(max_depth = params['depth'], max_leaf_nodes = val)\n",
    "        leafnode_results[val] = cross_val_score(DTC, vector,dataset['rating_label'], cv = fold, scoring ='f1_macro').mean()\n",
    "    \n",
    "    params['max_leaf_node'] = max(leafnode_results, key=leafnode_results.get)\n",
    "  \n",
    "    \n",
    "    return params"
   ]
  },
  {
   "cell_type": "code",
   "execution_count": 18,
   "id": "295a048c",
   "metadata": {
    "scrolled": true
   },
   "outputs": [
    {
     "name": "stdout",
     "output_type": "stream",
     "text": [
      "name params = {'depth': None, 'max_leaf_node': None}\n",
      "auth_params = {'depth': None, 'max_leaf_node': None}\n",
      "desc params = {'depth': None, 'max_leaf_node': None}\n"
     ]
    }
   ],
   "source": [
    "name_params = dtree_tuning(train_name_vec, bookrating_train)\n",
    "auth_params = dtree_tuning(train_auth_vec, bookrating_train)\n",
    "desc_params = dtree_tuning(train_desc_vec, bookrating_train)\n",
    "\n",
    "print('name params =', name_params)\n",
    "print('auth_params =', auth_params)\n",
    "print('desc params =', desc_params)"
   ]
  },
  {
   "cell_type": "code",
   "execution_count": 6,
   "id": "ef2520fb",
   "metadata": {},
   "outputs": [],
   "source": [
    "def majority_voting(list1, list2, list3):\n",
    "    \n",
    "    # Make the best list list3\n",
    "    \n",
    "    predictions = []\n",
    "    \n",
    "    for i in range(len(list1)):\n",
    "        current_votes = []\n",
    "        current_votes.append(list1[i])\n",
    "        current_votes.append(list2[i])\n",
    "        current_votes.append(list3[i])\n",
    "        \n",
    "        vote_counts = collections.Counter(current_votes)\n",
    "        \n",
    "        if len(vote_counts) == 3:\n",
    "            predictions.append(list3[i])\n",
    "        else:\n",
    "            predictions.append(max(vote_counts, key=vote_counts.get))\n",
    "        \n",
    "    return predictions            "
   ]
  },
  {
   "cell_type": "code",
   "execution_count": 37,
   "id": "111d3859",
   "metadata": {},
   "outputs": [],
   "source": [
    "train_name_X, test_name_X, train_name_Y, test_name_Y = train_test_split(train_name_vec, bookrating_train['rating_label'], test_size = 0.2, random_state = 3)\n",
    "train_auth_X, test_auth_X, train_auth_Y, test_auth_Y = train_test_split(train_auth_vec, bookrating_train['rating_label'], test_size = 0.2, random_state = 3)\n",
    "train_desc_X, test_desc_X, train_desc_Y, test_desc_Y = train_test_split(train_desc_vec, bookrating_train['rating_label'], test_size = 0.2, random_state = 3)\n"
   ]
  },
  {
   "cell_type": "code",
   "execution_count": 38,
   "id": "6c963b4d",
   "metadata": {},
   "outputs": [
    {
     "name": "stdout",
     "output_type": "stream",
     "text": [
      "voted accuracy =  0.7066984608714503\n",
      "name acc =  0.7090830262302189\n",
      "auth acc = 0.7095165835681769\n",
      "desc acc =  0.7064816822024713\n"
     ]
    }
   ],
   "source": [
    "DTC =tree.DecisionTreeClassifier(max_depth = 3, max_leaf_nodes = 7)\n",
    "name_model = DTC.fit(train_name_X, train_name_Y)\n",
    "name_preds = name_model.predict(test_name_X)\n",
    "\n",
    "DTC =tree.DecisionTreeClassifier(max_depth = 5, max_leaf_nodes = None)\n",
    "auth_model = DTC.fit(train_auth_X, train_auth_Y)\n",
    "auth_preds = auth_model.predict(test_auth_X)\n",
    "\n",
    "DTC =tree.DecisionTreeClassifier(max_depth = 3, max_leaf_nodes = 5)\n",
    "desc_model = DTC.fit(train_desc_X, train_auth_Y)\n",
    "desc_preds = desc_model.predict(test_desc_X)\n",
    "\n",
    "preds = majority_voting(name_preds, desc_preds, auth_preds)\n",
    "\n",
    "print('voted accuracy = ', accuracy_score(preds, test_name_Y))\n",
    "print('name acc = ', accuracy_score(name_preds, test_name_Y))\n",
    "print('auth acc =', accuracy_score(auth_preds, test_auth_Y))\n",
    "print('desc acc = ', accuracy_score(desc_preds, test_desc_Y))       "
   ]
  },
  {
   "cell_type": "code",
   "execution_count": 39,
   "id": "ef87bf91",
   "metadata": {},
   "outputs": [
    {
     "name": "stdout",
     "output_type": "stream",
     "text": [
      "Counter({4.0: 4609, 5.0: 3, 3.0: 1})\n",
      "Counter({4.0: 3256, 3.0: 1165, 5.0: 192})\n"
     ]
    }
   ],
   "source": [
    "#majority_voting(name_preds, auth_preds, desc_preds)\n",
    "# for i in range(len(preds)):\n",
    "#     if preds[i] != 4.0:\n",
    "#         print(preds[i],',', test_name_Y[i])\n",
    "print(collections.Counter(preds))\n",
    "print(collections.Counter(test_name_Y))"
   ]
  },
  {
   "cell_type": "code",
   "execution_count": 15,
   "id": "3a17bdb7",
   "metadata": {},
   "outputs": [],
   "source": [
    "SVM = SVC()\n",
    "subtrain_X, subtest_X, subtrain_Y, subtest_Y = train_test_split(train_auth_vec, bookrating_train['rating_label'], test_size = 0.2) "
   ]
  },
  {
   "cell_type": "code",
   "execution_count": 16,
   "id": "978729d9",
   "metadata": {},
   "outputs": [],
   "source": [
    "model = SVM.fit(subtrain_X, subtrain_Y)"
   ]
  },
  {
   "cell_type": "code",
   "execution_count": 17,
   "id": "f896ccaf",
   "metadata": {},
   "outputs": [
    {
     "name": "stdout",
     "output_type": "stream",
     "text": [
      "              precision    recall  f1-score   support\n",
      "\n",
      "         3.0       0.59      0.11      0.18      1203\n",
      "         4.0       0.71      0.97      0.82      3176\n",
      "         5.0       0.67      0.08      0.14       234\n",
      "\n",
      "    accuracy                           0.70      4613\n",
      "   macro avg       0.65      0.38      0.38      4613\n",
      "weighted avg       0.67      0.70      0.62      4613\n",
      "\n",
      "0.6995447647951442\n"
     ]
    }
   ],
   "source": [
    "predis = model.predict(subtest_X)\n",
    "print(classification_report(subtest_Y,predis))\n",
    "print(accuracy_score(subtest_Y, predis))"
   ]
  },
  {
   "cell_type": "code",
   "execution_count": 16,
   "id": "3b818ae1",
   "metadata": {},
   "outputs": [
    {
     "name": "stdout",
     "output_type": "stream",
     "text": [
      "0.7215886830630055\n"
     ]
    }
   ],
   "source": [
    "SVM = SVC(C = 1.3, kernel = 'poly', degree = 4)\n",
    "print(cross_val_score(SVM, train_auth_vec ,bookrating_train['rating_label'], cv = 5, scoring ='accuracy').mean())"
   ]
  },
  {
   "cell_type": "code",
   "execution_count": 23,
   "id": "88d2f462",
   "metadata": {},
   "outputs": [],
   "source": [
    "def svm_tuning(vector, dataset):\n",
    "    \n",
    "    fold = 5 # No of times to train in each repetition to get the average\n",
    "    \n",
    "    c_vals= [0.8,0.9,1.0,1.2,1.4,1.6]\n",
    "    c_results = {}\n",
    "    params = {}\n",
    "    \n",
    "    for c in c_vals:\n",
    "        \n",
    "        SVM = SVC(C = c)\n",
    "        c_results[c] = cross_val_score(SVM, vector,dataset['rating_label'], cv = fold, scoring ='f1_macro').mean()\n",
    " \n",
    "    params['C'] = max(c_results, key=c_results.get)\n",
    "    \n",
    "    kernel = ['linear', 'poly', 'rbf', 'sigmoid']\n",
    "    kernel_results = {}\n",
    "    \n",
    "    for kernel in kernel:\n",
    "        SVM = SVC(C = params['C'], kernel = kernel)\n",
    "        kernel_results[kernel] = cross_val_score(SVM, vector,dataset['rating_label'], cv = fold, scoring ='f1_macro').mean()\n",
    "    \n",
    "    params['kernel'] = max(kernel_results, key=kernel_results.get)\n",
    "    degree_exists = 0\n",
    "    if params['kernel'] == 'poly':\n",
    "        \n",
    "        degrees = [1,2,3,4,5,6]\n",
    "        degree_results = {}\n",
    "        \n",
    "        for degree in degrees:\n",
    "            SVM = SVC(C = params['C'], kernel = params['kernel'], degree = degree)\n",
    "            degree_results[degree] = cross_val_score(SVM, vector,dataset['rating_label'], cv = fold, scoring ='f1_macro').mean()\n",
    "       \n",
    "        params['degree'] = max(degree_results, key=degree_results.get)\n",
    "        degree_exists = 1\n",
    "    \n",
    "    weights = [None, 'balanced']\n",
    "    weight_results = {}\n",
    "        \n",
    "    for weight in weights:\n",
    "        \n",
    "        if degree_exists:\n",
    "            degree = params['degree']\n",
    "        else:\n",
    "            degree = 3            \n",
    "        SVM = SVC(C = params['C'], kernel = params['kernel'], degree = degree, class_weight = weight)\n",
    "        weight_results[weight] = cross_val_score(SVM, vector,dataset['rating_label'], cv = fold, scoring ='f1_macro').mean()\n",
    "    \n",
    "    params['weight'] = max(weight_results, key=weight_results.get)\n",
    "\n",
    "    return params"
   ]
  },
  {
   "cell_type": "code",
   "execution_count": null,
   "id": "d57fc8fc",
   "metadata": {},
   "outputs": [],
   "source": [
    "# name_params = svm_tuning(train_name_vec, bookrating_train)\n",
    "# auth_params = svm_tuning(train_auth_vec, bookrating_train)\n",
    "# desc_params = svm_tuning(train_desc_vec, bookrating_train)\n",
    "\n",
    "# print('name params =', name_params)\n",
    "# print('auth_params =', auth_params)\n",
    "# print('desc params =', desc_params)"
   ]
  },
  {
   "cell_type": "code",
   "execution_count": 22,
   "id": "37957677",
   "metadata": {},
   "outputs": [],
   "source": [
    "SVM = SVC(C=1.6,kernel='poly',degree=4,class_weight='balanced')\n",
    "my_model = SVM.fit(train_auth_vec, bookrating_train['rating_label'])\n",
    "predictions = my_model.predict(test_auth_vec)\n",
    "headers =['id','rating_label']\n",
    "ids = list(range(1,5767))"
   ]
  },
  {
   "cell_type": "code",
   "execution_count": 23,
   "id": "d2fcf78a",
   "metadata": {},
   "outputs": [],
   "source": [
    "my_dict = {'id' : ids, 'rating_label': predictions}\n",
    "dframe = pd.DataFrame(my_dict)"
   ]
  },
  {
   "cell_type": "code",
   "execution_count": 32,
   "id": "3f48b4bf",
   "metadata": {},
   "outputs": [],
   "source": [
    "dframe.to_csv('predictions.csv',index=False)"
   ]
  },
  {
   "cell_type": "code",
   "execution_count": 35,
   "id": "57c66a87",
   "metadata": {},
   "outputs": [],
   "source": [
    "df = pd.read_csv(\"predictions.csv\")\n",
    "\n",
    "df[\"rating_label\"] = df[\"rating_label\"].astype(str)\n",
    "\n",
    "df.to_csv(\"predictions.csv\", index=False)"
   ]
  },
  {
   "cell_type": "code",
   "execution_count": 9,
   "id": "60d14124",
   "metadata": {},
   "outputs": [],
   "source": [
    "DTC = tree.DecisionTreeClassifier(max_depth=5, max_leaf_nodes=None)\n",
    "dtModel = DTC.fit(train_auth_vec, bookrating_train['rating_label'])\n",
    "preds = dtModel.predict(test_auth_vec)\n",
    "ids =list(range(1,5767))"
   ]
  },
  {
   "cell_type": "code",
   "execution_count": 10,
   "id": "007db193",
   "metadata": {},
   "outputs": [],
   "source": [
    "my_dict = {'id' : ids, 'rating_label': preds}\n",
    "df = pd.DataFrame(my_dict)\n",
    "df.to_csv('DT_predictions.csv',index=False)"
   ]
  },
  {
   "cell_type": "code",
   "execution_count": null,
   "id": "947f7358",
   "metadata": {},
   "outputs": [],
   "source": []
  }
 ],
 "metadata": {
  "kernelspec": {
   "display_name": "Python 3 (ipykernel)",
   "language": "python",
   "name": "python3"
  },
  "language_info": {
   "codemirror_mode": {
    "name": "ipython",
    "version": 3
   },
   "file_extension": ".py",
   "mimetype": "text/x-python",
   "name": "python",
   "nbconvert_exporter": "python",
   "pygments_lexer": "ipython3",
   "version": "3.9.13"
  }
 },
 "nbformat": 4,
 "nbformat_minor": 5
}
